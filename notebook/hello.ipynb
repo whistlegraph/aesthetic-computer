{
 "cells": [
  {
   "cell_type": "code",
   "execution_count": 52,
   "id": "d3c7b5b2",
   "metadata": {},
   "outputs": [
    {
     "data": {
      "text/html": [
       "\n",
       "        <div style=\"margin: -8px -8px 0 -8px; padding: 0; overflow: hidden;\">\n",
       "            <iframe id=\"ac-iframe-566e086e\" src=\"https://localhost:8888/(ink_(..._blue_pink_gray))~(repeat_width/2_i_(ink_(..._gray_purple_blue_pink))_(box_i*2_0_2_height))~(spin_frame)~(stamp_%22@jeffrey/2025.6.24.01.45.17.910%22_width/2_height/2~__(min_width_height)/300_(no_(mod_frame*0.1_360))~)~(ink_yellow)~;(mask_0_0_width_20)~(write_%22Celebrate_Fia's_Birthday_Celebrate_Fia's_Birthday%22~__(mod_(mul_frame/1_-1)_(+_12_(*_24_12)))_0_no_2~)~;(unmask)~(write_%22July_5th_in_Echo_Park%22_10_30_black)~(write_%228pm-2am%22_width-50_40_black)~(write_%22Karaoke_&_Dancing%22_width/2-50_(+_height/2+70_(amplitude*100))_black)~(write_%22invite_only%22_width-90_height-30_black)~(ink_orange)~(write_%22+1s_welcome%22_width-80_height-19_brown)~(ink_(0.1s..._blue_white))~(write_%22_BYOB%22_-8_height-19_red_2)~(melody_%224d.4d.4e4d4g4fs-_4d.4d.4e4d4a4g-_4d.4d.5d4b4g4fs4e_5c5c4b4g4a4g-%22~__220_%223/4%22_%22waltz%22)?nolabel=true&nogap=true\" \n",
       "                    width=\"320\" \n",
       "                    height=\"480\" \n",
       "                    frameborder=\"0\"\n",
       "                    style=\"background: transparent; margin: 0; padding: 0; border: none; display: block;\">\n",
       "            </iframe>\n",
       "        </div>\n",
       "        "
      ],
      "text/plain": [
       "<IPython.core.display.HTML object>"
      ]
     },
     "metadata": {},
     "output_type": "display_data"
    }
   ],
   "source": [
    "%%ac 320 240*2 \n",
    "(ink (... blue pink gray))\n",
    "(repeat width/2 i (ink (... gray purple blue pink)) (box i*2 0 2 height))\n",
    "(spin frame)\n",
    "(stamp \"@jeffrey/2025.6.24.01.45.17.910\" width/2 height/2\n",
    "  (min width height)/300 (no (mod frame*0.1 360))\n",
    ")\n",
    "(ink yellow)\n",
    ";(mask 0 0 width 20)\n",
    "(write \"Celebrate Fia's Birthday Celebrate Fia's Birthday\"\n",
    "  (mod (mul frame/1 -1) (+ 12 (* 24 12))) 0 no 2\n",
    ")\n",
    ";(unmask)\n",
    "(write \"July 5th in Echo Park\" 10 30 black)\n",
    "(write \"8pm-2am\" width-50 40 black)\n",
    "(write \"Karaoke & Dancing\" width/2-50 (+ height/2+70 (amplitude*100)) black)\n",
    "(write \"invite only\" width-90 height-30 black)\n",
    "(ink orange)\n",
    "(write \"+1s welcome\" width-80 height-19 brown)\n",
    "(ink (0.1s... blue white))\n",
    "(write \" BYOB\" -8 height-19 red 2)\n",
    "(melody \"4d.4d.4e4d4g4fs-_4d.4d.4e4d4a4g-_4d.4d.5d4b4g4fs4e_5c5c4b4g4a4g-\"\n",
    "  220 \"3/4\" \"waltz\")"
   ]
  }
 ],
 "metadata": {
  "kernelspec": {
   "display_name": "Python 3",
   "language": "python",
   "name": "python3"
  },
  "language_info": {
   "codemirror_mode": {
    "name": "ipython",
    "version": 3
   },
   "file_extension": ".py",
   "mimetype": "text/x-python",
   "name": "python",
   "nbconvert_exporter": "python",
   "pygments_lexer": "ipython3",
   "version": "3.13.3"
  },
  "polyglot_notebook": {
   "kernelInfo": {
    "defaultKernelName": "csharp",
    "items": [
     {
      "aliases": [],
      "name": "csharp"
     }
    ]
   }
  }
 },
 "nbformat": 4,
 "nbformat_minor": 5
}
