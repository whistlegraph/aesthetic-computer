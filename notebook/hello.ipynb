{
 "cells": [
  {
   "cell_type": "markdown",
   "id": "8af28804",
   "metadata": {},
   "source": [
    "### `@jeffrey`'s notebook\n"
   ]
  },
  {
   "cell_type": "code",
   "execution_count": null,
   "id": "1734d026",
   "metadata": {},
   "outputs": [],
   "source": [
    "aesthetic.show(\"metronome~320\");\n"
   ]
  }
 ],
 "metadata": {
  "kernelspec": {
   "display_name": "Python 3",
   "language": "python",
   "name": "python3"
  },
  "language_info": {
   "codemirror_mode": {
    "name": "ipython",
    "version": 3
   },
   "file_extension": ".py",
   "mimetype": "text/x-python",
   "name": "python",
   "nbconvert_exporter": "python",
   "pygments_lexer": "ipython3",
   "version": "3.13.3"
  },
  "polyglot_notebook": {
   "kernelInfo": {
    "defaultKernelName": "csharp",
    "items": [
     {
      "aliases": [],
      "name": "csharp"
     }
    ]
   }
  }
 },
 "nbformat": 4,
 "nbformat_minor": 5
}
