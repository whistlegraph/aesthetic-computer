{
 "cells": [
  {
   "cell_type": "code",
   "execution_count": null,
   "id": "d3c7b5b2",
   "metadata": {},
   "outputs": [
    {
     "data": {
      "text/html": [
       "\n",
       "        <div style=\"margin: -8px -8px 0 -8px; padding: 0; overflow: hidden;\">\n",
       "            <iframe id=\"ac-iframe-58c68dc0\" src=\"https://localhost:8888/(ink_rainbow)~(line)~(melody_%22cdefgabagfed%22_320)?nolabel=true&nogap=true\" \n",
       "                    width=\"128\" \n",
       "                    height=\"128\" \n",
       "                    frameborder=\"0\"\n",
       "                    style=\"background: transparent; margin: 0; padding: 0; border: none; display: block;\">\n",
       "            </iframe>\n",
       "        </div>\n",
       "        "
      ],
      "text/plain": [
       "<IPython.core.display.HTML object>"
      ]
     },
     "metadata": {},
     "output_type": "display_data"
    }
   ],
   "source": [
    "%%ac 128 128\n",
    "(ink rainbow)\n",
    "(line)\n",
    "(melody \"cdefgabagfed\" 320)\n",
    "; todo: make it so the iframe in aesthetic.py dosn't have to be reloaded\n",
    ";       when the melody changes\n"
   ]
  }
 ],
 "metadata": {
  "kernelspec": {
   "display_name": "Python 3",
   "language": "python",
   "name": "python3"
  },
  "language_info": {
   "codemirror_mode": {
    "name": "ipython",
    "version": 3
   },
   "file_extension": ".py",
   "mimetype": "text/x-python",
   "name": "python",
   "nbconvert_exporter": "python",
   "pygments_lexer": "ipython3",
   "version": "3.13.3"
  },
  "polyglot_notebook": {
   "kernelInfo": {
    "defaultKernelName": "csharp",
    "items": [
     {
      "aliases": [],
      "name": "csharp"
     }
    ]
   }
  }
 },
 "nbformat": 4,
 "nbformat_minor": 5
}
