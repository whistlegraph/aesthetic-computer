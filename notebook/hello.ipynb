{
 "cells": [
  {
   "cell_type": "markdown",
   "id": "d67f20ac",
   "metadata": {},
   "source": [
    "# Testing KidLisp `resolution half` Function\n",
    "\n",
    "Let's test the new `(resolution half)` functionality to ensure it:\n",
    "\n",
    "1. ✅ Cuts resolution to half the current screen dimensions\n",
    "2. ✅ Is non-reentrant (doesn't apply halving multiple times)\n",
    "3. ✅ Resets when explicit dimensions are provided\n",
    "4. ✅ Works correctly with the fia-birthday.lisp piece\n"
   ]
  },
  {
   "cell_type": "code",
   "execution_count": null,
   "id": "e5b6cd07",
   "metadata": {},
   "outputs": [],
   "source": [
    "# Test the resolution half function\n",
    "import subprocess\n",
    "\n",
    "# Verify the resolution function was properly updated\n",
    "result = subprocess.run(['grep', '-A', '20', 'resolution: (api', 'system/public/aesthetic.computer/lib/kidlisp.mjs'], \n",
    "                       capture_output=True, text=True, cwd='/workspaces/aesthetic-computer')\n",
    "\n",
    "print(\"🔄 Updated resolution function:\")\n",
    "print(result.stdout)\n",
    "\n",
    "# Verify the constructor has the new flag\n",
    "constructor_result = subprocess.run(['grep', '-A', '5', 'halfResolutionApplied', 'system/public/aesthetic.computer/lib/kidlisp.mjs'], \n",
    "                                   capture_output=True, text=True, cwd='/workspaces/aesthetic-computer')\n",
    "\n",
    "print(\"\\n🏗️ Constructor initialization:\")\n",
    "print(constructor_result.stdout)"
   ]
  },
  {
   "cell_type": "code",
   "execution_count": null,
   "id": "d3c7b5b2",
   "metadata": {},
   "outputs": [
    {
     "data": {
      "text/html": [
       "\n",
       "        <div style=\"margin: -8px -8px 0 -8px; padding: 0; overflow: hidden;\">\n",
       "            <iframe id=\"ac-iframe-58c68dc0\" src=\"https://localhost:8888/(ink_rainbow)~(line)~(melody_%22cdefgabagfed%22_320)?nolabel=true&nogap=true\" \n",
       "                    width=\"128\" \n",
       "                    height=\"128\" \n",
       "                    frameborder=\"0\"\n",
       "                    style=\"background: transparent; margin: 0; padding: 0; border: none; display: block;\">\n",
       "            </iframe>\n",
       "        </div>\n",
       "        "
      ],
      "text/plain": [
       "<IPython.core.display.HTML object>"
      ]
     },
     "metadata": {},
     "output_type": "display_data"
    }
   ],
   "source": [
    "%%ac 128 128\n",
    "(ink rainbow)\n",
    "(line)\n",
    "(melody \"cdefgabagfed\" 320)\n",
    "; todo: make it so the iframe in aesthetic.py dosn't have to be reloaded\n",
    ";       when the melody changes\n"
   ]
  }
 ],
 "metadata": {
  "kernelspec": {
   "display_name": "Python 3",
   "language": "python",
   "name": "python3"
  },
  "language_info": {
   "codemirror_mode": {
    "name": "ipython",
    "version": 3
   },
   "file_extension": ".py",
   "mimetype": "text/x-python",
   "name": "python",
   "nbconvert_exporter": "python",
   "pygments_lexer": "ipython3",
   "version": "3.13.3"
  },
  "polyglot_notebook": {
   "kernelInfo": {
    "defaultKernelName": "csharp",
    "items": [
     {
      "aliases": [],
      "name": "csharp"
     }
    ]
   }
  }
 },
 "nbformat": 4,
 "nbformat_minor": 5
}
