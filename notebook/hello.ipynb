{
 "cells": [
  {
   "cell_type": "code",
   "execution_count": 8,
   "id": "d3c7b5b2",
   "metadata": {},
   "outputs": [
    {
     "data": {
      "text/html": [
       "\n",
       "        <div style=\"margin: -8px -8px 0 -8px; padding: 0; overflow: hidden;\">\n",
       "            <iframe id=\"ac-iframe-7c826752\" src=\"https://localhost:8888/%28wipe_orange%29_%28ink_black%29_%28write_`abcdefghijklmnopqrstuvwxyz`_2_2_white%29_%28scroll_%28÷_frame_width%29%29?nolabel=true&nogap=true\" \n",
       "                    width=\"100%\" \n",
       "                    height=\"30\" \n",
       "                    frameborder=\"0\"\n",
       "                    style=\"background: transparent; margin: 0; padding: 0; border: none; display: block;\">\n",
       "            </iframe>\n",
       "        </div>\n",
       "        "
      ],
      "text/plain": [
       "<IPython.core.display.HTML object>"
      ]
     },
     "metadata": {},
     "output_type": "display_data"
    }
   ],
   "source": [
    "%ac (wipe orange) (ink black) (write \"abcdefghijklmnopqrstuvwxyz\" 2 2 white) (scroll (% frame width))"
   ]
  }
 ],
 "metadata": {
  "kernelspec": {
   "display_name": "Python 3",
   "language": "python",
   "name": "python3"
  },
  "language_info": {
   "codemirror_mode": {
    "name": "ipython",
    "version": 3
   },
   "file_extension": ".py",
   "mimetype": "text/x-python",
   "name": "python",
   "nbconvert_exporter": "python",
   "pygments_lexer": "ipython3",
   "version": "3.13.3"
  },
  "polyglot_notebook": {
   "kernelInfo": {
    "defaultKernelName": "csharp",
    "items": [
     {
      "aliases": [],
      "name": "csharp"
     }
    ]
   }
  }
 },
 "nbformat": 4,
 "nbformat_minor": 5
}
