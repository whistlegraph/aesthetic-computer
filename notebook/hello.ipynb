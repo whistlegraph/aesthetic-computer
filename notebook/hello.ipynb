{
 "cells": [
  {
   "cell_type": "markdown",
   "id": "656cd70f",
   "metadata": {},
   "source": [
    "Hello, and welcome to my notebook. \n",
    "\n",
    "My name is `@jeffrey` and I'm the lead author of Aesthetic Computer."
   ]
  },
  {
   "cell_type": "code",
   "execution_count": 6,
   "id": "a6e4ec28",
   "metadata": {
    "vscode": {
     "languageId": "javascript"
    }
   },
   "outputs": [
    {
     "ename": "SyntaxError",
     "evalue": "invalid syntax (1727444433.py, line 1)",
     "output_type": "error",
     "traceback": [
      "\u001b[0;36m  Cell \u001b[0;32mIn[6], line 1\u001b[0;36m\u001b[0m\n\u001b[0;31m    const j = \"jeffrey\";\u001b[0m\n\u001b[0m          ^\u001b[0m\n\u001b[0;31mSyntaxError\u001b[0m\u001b[0;31m:\u001b[0m invalid syntax\n"
     ]
    }
   ],
   "source": [
    "const j = \"jeffrey\";\n",
    "j.split(\"\").forEach((c) => {  \n",
    "  console.log(c);\n",
    "}\n",
    ");"
   ]
  }
 ],
 "metadata": {
  "kernelspec": {
   "display_name": "Python 3",
   "language": "python",
   "name": "python3"
  },
  "language_info": {
   "codemirror_mode": {
    "name": "ipython",
    "version": 3
   },
   "file_extension": ".py",
   "mimetype": "text/x-python",
   "name": "python",
   "nbconvert_exporter": "python",
   "pygments_lexer": "ipython3",
   "version": "3.13.3"
  }
 },
 "nbformat": 4,
 "nbformat_minor": 5
}
