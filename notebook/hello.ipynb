{
 "cells": [
  {
   "cell_type": "code",
   "execution_count": 1,
   "id": "d3c7b5b2",
   "metadata": {},
   "outputs": [
    {
     "data": {
      "text/html": [
       "\n",
       "        <div style=\"margin: -8px -8px 0 -8px; padding: 0; overflow: hidden;\">\n",
       "            <iframe id=\"ac-iframe-73bc9e70\" src=\"https://localhost:8888/(mask_0_0_width/2_height/2)~(stamp_%22@jeffrey/2024.2.13.15.31.05.635%22_width/2_height/2)~(scroll_2_20)~(spin_1)?nolabel=true&nogap=true\" \n",
       "                    width=\"320\" \n",
       "                    height=\"240\" \n",
       "                    frameborder=\"0\"\n",
       "                    style=\"background: transparent; margin: 0; padding: 0; border: none; display: block;\">\n",
       "            </iframe>\n",
       "        </div>\n",
       "        "
      ],
      "text/plain": [
       "<IPython.core.display.HTML object>"
      ]
     },
     "metadata": {},
     "output_type": "display_data"
    }
   ],
   "source": [
    "%%ac 320 240\n",
    "(mask 0 0 width/2 height/2)\n",
    "(stamp \"@jeffrey/2024.2.13.15.31.05.635\" width/2 height/2)\n",
    "(scroll 2 20)\n",
    "(spin 1)"
   ]
  },
  {
   "cell_type": "code",
   "execution_count": null,
   "id": "7a4c6cec",
   "metadata": {},
   "outputs": [],
   "source": []
  },
  {
   "cell_type": "markdown",
   "id": "8ec6d479",
   "metadata": {},
   "source": [
    "## Testing Mask Support in `paste` and `stamp`\n",
    "\n",
    "The `paste` and `stamp` commands now respect the `mask` functionality. Here are some tests to demonstrate this behavior:\n",
    "\n",
    "1. **Basic mask test**: Set a mask and then paste/stamp content - only pixels within the mask should be drawn\n",
    "2. **Unmask test**: Remove the mask and paste/stamp again - content should draw normally\n",
    "3. **Visual comparison**: Side-by-side comparison of masked vs unmasked paste/stamp operations\n"
   ]
  },
  {
   "cell_type": "code",
   "execution_count": null,
   "id": "c728a843",
   "metadata": {},
   "outputs": [],
   "source": [
    "# Test 1: Basic mask test with paste\n",
    "# This should only paste content within the masked area\n",
    "\n",
    "# First, clear the screen and create some background\n",
    "ac(\"cls\")\n",
    "ac(\"(ink 255 0 0) (box 0 0 200 200)\")  # Red background\n",
    "\n",
    "# Set a mask to restrict drawing to a specific area\n",
    "ac(\"(mask 50 50 100 100)\")  # Mask a 100x100 area at position (50, 50)\n",
    "\n",
    "# Try to paste content - this should only appear within the masked area\n",
    "handle = \"@jeffrey@aesthetic.computer\"\n",
    "ac(f\"(ink 0 255 0) (paste {handle} 0 0)\")  # Green content\n",
    "\n",
    "print(\"✓ Test 1: Pasted with mask - content should only appear in masked area (50,50 to 150,150)\")"
   ]
  },
  {
   "cell_type": "code",
   "execution_count": null,
   "id": "8c919084",
   "metadata": {},
   "outputs": [],
   "source": [
    "# Test 2: Basic mask test with stamp\n",
    "# This should only stamp content within the masked area\n",
    "\n",
    "# Clear and create background\n",
    "ac(\"cls\")\n",
    "ac(\"(ink 0 0 255) (box 0 0 200 200)\")  # Blue background\n",
    "\n",
    "# Set the same mask\n",
    "ac(\"(mask 50 50 100 100)\")\n",
    "\n",
    "# Try to stamp content - this should only appear within the masked area\n",
    "handle = \"@jeffrey@aesthetic.computer\"\n",
    "ac(f\"(ink 255 255 0) (stamp {handle} 100 100)\")  # Yellow content, centered at (100,100)\n",
    "\n",
    "print(\"✓ Test 2: Stamped with mask - content should only appear in masked area\")"
   ]
  },
  {
   "cell_type": "code",
   "execution_count": null,
   "id": "5a4448fd",
   "metadata": {},
   "outputs": [],
   "source": [
    "# Test 3: Unmask test\n",
    "# This should draw the full content without mask restrictions\n",
    "\n",
    "# Clear and create background\n",
    "ac(\"cls\")\n",
    "ac(\"(ink 128 128 128) (box 0 0 200 200)\")  # Gray background\n",
    "\n",
    "# Remove the mask\n",
    "ac(\"(unmask)\")\n",
    "\n",
    "# Try to paste/stamp content - this should appear fully without restrictions\n",
    "handle = \"@jeffrey@aesthetic.computer\"\n",
    "ac(f\"(ink 255 0 255) (paste {handle} 10 10)\")  # Magenta content at (10,10)\n",
    "ac(f\"(ink 0 255 255) (stamp {handle} 150 150)\")  # Cyan content centered at (150,150)\n",
    "\n",
    "print(\"✓ Test 3: Unmasked paste and stamp - content should appear fully without restrictions\")"
   ]
  },
  {
   "cell_type": "markdown",
   "id": "cf310196",
   "metadata": {},
   "source": [
    "## Summary: Mask Support Implementation\n",
    "\n",
    "### What was discovered:\n",
    "\n",
    "- **Previous behavior**: The `paste` and `stamp` commands did NOT respect the `mask` functionality\n",
    "- **Root cause**: The `copy` function in `graph.mjs` (used by both `paste` and `stamp`) was missing mask checking logic\n",
    "- **Solution**: Added mask checking to the `copy` function to match the behavior of other drawing functions like `plot`\n",
    "\n",
    "### Implementation details:\n",
    "\n",
    "- Modified the `copy` function in `/workspaces/aesthetic-computer/system/public/aesthetic.computer/lib/graph.mjs`\n",
    "- Added the same mask boundary checking logic used by the `plot` function\n",
    "- Now both `paste` and `stamp` will only draw pixels within the active mask area when a mask is set\n",
    "- When no mask is active (or after calling `unmask`), `paste` and `stamp` work normally\n",
    "\n",
    "### Available mask commands:\n",
    "\n",
    "- `(mask x y width height)` - Set a rectangular mask area\n",
    "- `(unmask)` - Remove the current mask\n",
    "- `(paste @handle x y)` - Paste image, respecting active mask\n",
    "- `(stamp @handle x y)` - Stamp image (centered), respecting active mask\n",
    "\n",
    "This ensures consistent masking behavior across all drawing operations in the aesthetic computer system!\n"
   ]
  }
 ],
 "metadata": {
  "kernelspec": {
   "display_name": "Python 3",
   "language": "python",
   "name": "python3"
  },
  "language_info": {
   "codemirror_mode": {
    "name": "ipython",
    "version": 3
   },
   "file_extension": ".py",
   "mimetype": "text/x-python",
   "name": "python",
   "nbconvert_exporter": "python",
   "pygments_lexer": "ipython3",
   "version": "3.13.3"
  },
  "polyglot_notebook": {
   "kernelInfo": {
    "defaultKernelName": "csharp",
    "items": [
     {
      "aliases": [],
      "name": "csharp"
     }
    ]
   }
  }
 },
 "nbformat": 4,
 "nbformat_minor": 5
}
