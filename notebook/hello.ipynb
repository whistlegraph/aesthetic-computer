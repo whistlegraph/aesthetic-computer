{
 "cells": [
  {
   "cell_type": "code",
   "execution_count": 117,
   "id": "d3c7b5b2",
   "metadata": {},
   "outputs": [
    {
     "data": {
      "text/html": [
       "\n",
       "        <div style=\"margin: -8px -8px 0 -8px; padding: 0; overflow: hidden;\">\n",
       "            <iframe id=\"ac-iframe-9ccf9b2f\" src=\"https://localhost:8888/(ink_(..._blue_pink_gray))~(repeat_width_i_(ink_(..._gray_purple_blue_pink))_(line_i_0_i_height))~(spin_frame/amplitude)~(stamp_%22@jeffrey/2025.6.24.01.45.17.910%22_width/2_height/2_(min_width_height)/300_(no_(mod_frame*0.1_360)))~(ink_yellow)~(mask_0_0_width_20)~(write_%22Celebrate_Fia's_Birthday%22_(mod_(mul_(mod_frame/10_width)_-16)_width)_0_purple_2)~(unmask)~(write_%22July_5th_in_Echo_Park%22_10_30_black)~(write_%228pm-2am%22_width-50_40_black)~(write_%22Karaoke_&_Dancing%22_width/2-50_(+_height/2+70_(amplitude*100))_black)~(write_%22invite_only_-_+1s_welcome%22_70_height-20_black)~(ink_(..._blue_white))~(write_%22BYOB%22_10_height-20_red_2)~(melody_%224d.4d.4e4d4g4fs-_4d.4d.4e4d4a4g-_4d.4d.5d4b4g4fs4e_5c5c4b4g4a4g-%22_120_%223/4%22_%22waltz%22)~(10s_wipe)~(ink_%22cyan%22)?nolabel=true&nogap=true\" \n",
       "                    width=\"320\" \n",
       "                    height=\"600\" \n",
       "                    frameborder=\"0\"\n",
       "                    style=\"background: transparent; margin: 0; padding: 0; border: none; display: block;\">\n",
       "            </iframe>\n",
       "        </div>\n",
       "        "
      ],
      "text/plain": [
       "<IPython.core.display.HTML object>"
      ]
     },
     "metadata": {},
     "output_type": "display_data"
    }
   ],
   "source": [
    "%%ac 320 240*2.5 \n",
    "(ink (... blue pink gray))\n",
    "(repeat width i (ink (... gray purple blue pink)) (line i 0 i height))\n",
    "(spin frame/amplitude)\n",
    "(stamp \"@jeffrey/2025.6.24.01.45.17.910\" width/2 height/2 (min width height)/300 (no (mod frame*0.1 360)))\n",
    "(ink yellow)\n",
    "(mask 0 0 width 20)\n",
    "(write \"Celebrate Fia's Birthday\" (mod (mul (mod frame/10 width) -16) width) 0 purple 2)\n",
    "(unmask)\n",
    "(write \"July 5th in Echo Park\" 10 30 black)\n",
    "(write \"8pm-2am\" width-50 40 black)\n",
    "(write \"Karaoke & Dancing\" width/2-50 (+ height/2+70 (amplitude*100)) black)\n",
    "(write \"invite only - +1s welcome\" 70 height-20 black)\n",
    "(ink (... blue white))\n",
    "(write \"BYOB\" 10 height-20 red 2)\n",
    "(melody \"4d.4d.4e4d4g4fs-_4d.4d.4e4d4a4g-_4d.4d.5d4b4g4fs4e_5c5c4b4g4a4g-\" 120 \"3/4\" \"waltz\")\n",
    "(10s wipe)\n",
    "(ink \"cyan\")"
   ]
  }
 ],
 "metadata": {
  "kernelspec": {
   "display_name": "Python 3",
   "language": "python",
   "name": "python3"
  },
  "language_info": {
   "codemirror_mode": {
    "name": "ipython",
    "version": 3
   },
   "file_extension": ".py",
   "mimetype": "text/x-python",
   "name": "python",
   "nbconvert_exporter": "python",
   "pygments_lexer": "ipython3",
   "version": "3.13.3"
  },
  "polyglot_notebook": {
   "kernelInfo": {
    "defaultKernelName": "csharp",
    "items": [
     {
      "aliases": [],
      "name": "csharp"
     }
    ]
   }
  }
 },
 "nbformat": 4,
 "nbformat_minor": 5
}
