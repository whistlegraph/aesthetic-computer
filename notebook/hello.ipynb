{
 "cells": [
  {
   "cell_type": "code",
   "execution_count": 2,
   "id": "c4aabfcc",
   "metadata": {},
   "outputs": [
    {
     "name": "stdout",
     "output_type": "stream",
     "text": [
      "Original: (wipe red) (ink white) (line 0 0 100 100)\n",
      "Full URL with parameters: https://localhost:8888/(wipe_red)_(ink_white)_(line_0_0_100_100)?nolabel=true&nogap=true\n"
     ]
    }
   ],
   "source": [
    "# Test the Node.js-based kidlisp encoder with URL parameters\n",
    "import sys\n",
    "sys.path.append('/workspaces/aesthetic-computer/notebook')\n",
    "import aesthetic\n",
    "\n",
    "# Test encoding with Node.js\n",
    "test_code = \"(wipe red) (ink white) (line 0 0 100 100)\"\n",
    "print(\"Original:\", test_code)\n",
    "\n",
    "# This should now use Node.js to encode and include URL parameters\n",
    "from aesthetic import encode_kidlisp_with_node\n",
    "encoded_url = encode_kidlisp_with_node(test_code)\n",
    "print(\"Full URL with parameters:\", encoded_url)"
   ]
  },
  {
   "cell_type": "code",
   "execution_count": 23,
   "id": "d3c7b5b2",
   "metadata": {},
   "outputs": [
    {
     "data": {
      "text/html": [
       "\n",
       "        <div style=\"margin: -8px -8px 0 -8px; padding: 0; overflow: hidden;\">\n",
       "            <iframe id=\"ac-iframe-6b20d460\" src=\"https://localhost:8888/(wipe_yellow)_(ink_black)_(write_%22abc%22_4_4)_(line_0_100_100%20_0)?nolabel=true&nogap=true\" \n",
       "                    width=\"100%\" \n",
       "                    height=\"30\" \n",
       "                    frameborder=\"0\"\n",
       "                    style=\"background: transparent; margin: 0; padding: 0; border: none; display: block;\">\n",
       "            </iframe>\n",
       "        </div>\n",
       "        "
      ],
      "text/plain": [
       "<IPython.core.display.HTML object>"
      ]
     },
     "metadata": {},
     "output_type": "display_data"
    }
   ],
   "source": [
    "%ac (wipe yellow) (ink black) (write \"abc\" 4 4) (line 0 100 100%20 0)"
   ]
  }
 ],
 "metadata": {
  "kernelspec": {
   "display_name": "Python 3",
   "language": "python",
   "name": "python3"
  },
  "language_info": {
   "codemirror_mode": {
    "name": "ipython",
    "version": 3
   },
   "file_extension": ".py",
   "mimetype": "text/x-python",
   "name": "python",
   "nbconvert_exporter": "python",
   "pygments_lexer": "ipython3",
   "version": "3.13.3"
  },
  "polyglot_notebook": {
   "kernelInfo": {
    "defaultKernelName": "csharp",
    "items": [
     {
      "aliases": [],
      "name": "csharp"
     }
    ]
   }
  }
 },
 "nbformat": 4,
 "nbformat_minor": 5
}
