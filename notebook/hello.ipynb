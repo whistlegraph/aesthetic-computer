{
 "cells": [
  {
   "cell_type": "code",
   "execution_count": 6,
   "id": "d3c7b5b2",
   "metadata": {},
   "outputs": [
    {
     "data": {
      "text/html": [
       "\n",
       "        <div style=\"margin: -8px -8px 0 -8px; padding: 0; overflow: hidden;\">\n",
       "            <iframe id=\"ac-iframe-1a5ebd5b\" src=\"https://localhost:8888/(ink)~(repeat_100_line)~(stamp_%22@jeffrey/2025.6.24.01.45.17.910%22_width/2_height/2)~(ink_yellow)~(write_%22Come_to_Fia's_Birthday%22_10_10_black)~(write_%22July_5th_in_Echo_Park%22_10_30_black)~(write_%22Karaoke_&_Dancing%22_10_50_black)~(write_%228pm-2am%22_10_70_black)~(write_%22invite_only_-_plus_ones_welcome%22_10_90_black)~(write_%22BYOB%22_10_120_black)?nolabel=true&nogap=true\" \n",
       "                    width=\"640\" \n",
       "                    height=\"720\" \n",
       "                    frameborder=\"0\"\n",
       "                    style=\"background: transparent; margin: 0; padding: 0; border: none; display: block;\">\n",
       "            </iframe>\n",
       "        </div>\n",
       "        "
      ],
      "text/plain": [
       "<IPython.core.display.HTML object>"
      ]
     },
     "metadata": {},
     "output_type": "display_data"
    }
   ],
   "source": [
    "%%ac 640 720 \n",
    "(ink)\n",
    "(repeat 100 line)\n",
    "(stamp \"@jeffrey/2025.6.24.01.45.17.910\" width/2 height/2)\n",
    "(ink yellow)\n",
    "(write \"Come to Fia's Birthday\" 10 10 black)\n",
    "(write \"July 5th in Echo Park\" 10 30 black)\n",
    "(write \"Karaoke & Dancing\" 10 50 black)\n",
    "(write \"8pm-2am\" 10 70 black)\n",
    "(write \"invite only - plus ones welcome\" 10 90 black)\n",
    "(write \"BYOB\" 10 120 black)"
   ]
  }
 ],
 "metadata": {
  "kernelspec": {
   "display_name": "Python 3",
   "language": "python",
   "name": "python3"
  },
  "language_info": {
   "codemirror_mode": {
    "name": "ipython",
    "version": 3
   },
   "file_extension": ".py",
   "mimetype": "text/x-python",
   "name": "python",
   "nbconvert_exporter": "python",
   "pygments_lexer": "ipython3",
   "version": "3.13.3"
  },
  "polyglot_notebook": {
   "kernelInfo": {
    "defaultKernelName": "csharp",
    "items": [
     {
      "aliases": [],
      "name": "csharp"
     }
    ]
   }
  }
 },
 "nbformat": 4,
 "nbformat_minor": 5
}
