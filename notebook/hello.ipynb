{
 "cells": [
  {
   "cell_type": "code",
   "execution_count": 9,
   "id": "ce329114",
   "metadata": {},
   "outputs": [
    {
     "ename": "FileNotFoundError",
     "evalue": "[Errno 2] No such file or directory: '/workspaces/aesthetic-computer/system/.netlify/functions-serve/index/backend/filter.mjs'",
     "output_type": "error",
     "traceback": [
      "\u001b[0;31m---------------------------------------------------------------------------\u001b[0m",
      "\u001b[0;31mFileNotFoundError\u001b[0m                         Traceback (most recent call last)",
      "Cell \u001b[0;32mIn[9], line 14\u001b[0m\n\u001b[1;32m     12\u001b[0m     \u001b[38;5;28;01mif\u001b[39;00m file\u001b[38;5;241m.\u001b[39mendswith(\u001b[38;5;124m'\u001b[39m\u001b[38;5;124m.mjs\u001b[39m\u001b[38;5;124m'\u001b[39m):\n\u001b[1;32m     13\u001b[0m       file_path \u001b[38;5;241m=\u001b[39m os\u001b[38;5;241m.\u001b[39mpath\u001b[38;5;241m.\u001b[39mjoin(root, file)\n\u001b[0;32m---> 14\u001b[0m       mjs_files[file] \u001b[38;5;241m=\u001b[39m \u001b[43mos\u001b[49m\u001b[38;5;241;43m.\u001b[39;49m\u001b[43mpath\u001b[49m\u001b[38;5;241;43m.\u001b[39;49m\u001b[43mgetsize\u001b[49m\u001b[43m(\u001b[49m\u001b[43mfile_path\u001b[49m\u001b[43m)\u001b[49m\n\u001b[1;32m     16\u001b[0m \u001b[38;5;66;03m# Sort files by size\u001b[39;00m\n\u001b[1;32m     17\u001b[0m sorted_mjs_files \u001b[38;5;241m=\u001b[39m \u001b[38;5;28msorted\u001b[39m(mjs_files\u001b[38;5;241m.\u001b[39mitems(), key\u001b[38;5;241m=\u001b[39m\u001b[38;5;28;01mlambda\u001b[39;00m x: x[\u001b[38;5;241m1\u001b[39m], reverse\u001b[38;5;241m=\u001b[39m\u001b[38;5;28;01mTrue\u001b[39;00m)\n",
      "File \u001b[0;32m<frozen genericpath>:86\u001b[0m, in \u001b[0;36mgetsize\u001b[0;34m(filename)\u001b[0m\n",
      "\u001b[0;31mFileNotFoundError\u001b[0m: [Errno 2] No such file or directory: '/workspaces/aesthetic-computer/system/.netlify/functions-serve/index/backend/filter.mjs'"
     ]
    }
   ],
   "source": [
    "import os\n",
    "\n",
    "import matplotlib.pyplot as plt\n",
    "\n",
    "# Define the directory to search for .mjs files\n",
    "directory = '/workspaces/aesthetic-computer/system/'\n",
    "\n",
    "# Collect all .mjs files and their sizes\n",
    "mjs_files = {}\n",
    "for root, _, files in os.walk(directory):\n",
    "  for file in files:\n",
    "    if file.endswith('.mjs'):\n",
    "      file_path = os.path.join(root, file)\n",
    "      mjs_files[file] = os.path.getsize(file_path)\n",
    "\n",
    "# Sort files by size\n",
    "sorted_mjs_files = sorted(mjs_files.items(), key=lambda x: x[1], reverse=True)\n",
    "\n",
    "# Extract file names and sizes\n",
    "file_names = [item[0] for item in sorted_mjs_files]\n",
    "file_sizes = [item[1] for item in sorted_mjs_files]\n",
    "\n",
    "# Plot the data\n",
    "plt.figure(figsize=(10, 6))\n",
    "plt.barh(file_names, file_sizes, color='skyblue')\n",
    "plt.xlabel('File Size (bytes)')\n",
    "plt.ylabel('File Name')\n",
    "plt.title('Visualization of .mjs Files in /system/ Directory')\n",
    "plt.gca().invert_yaxis()  # Invert y-axis for better readability\n",
    "plt.tight_layout()\n",
    "plt.show()"
   ]
  }
 ],
 "metadata": {
  "kernelspec": {
   "display_name": "Python 3",
   "language": "python",
   "name": "python3"
  },
  "language_info": {
   "codemirror_mode": {
    "name": "ipython",
    "version": 3
   },
   "file_extension": ".py",
   "mimetype": "text/x-python",
   "name": "python",
   "nbconvert_exporter": "python",
   "pygments_lexer": "ipython3",
   "version": "3.13.3"
  },
  "polyglot_notebook": {
   "kernelInfo": {
    "defaultKernelName": "csharp",
    "items": [
     {
      "aliases": [],
      "name": "csharp"
     }
    ]
   }
  }
 },
 "nbformat": 4,
 "nbformat_minor": 5
}
