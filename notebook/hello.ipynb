{
 "cells": [
  {
   "cell_type": "code",
   "execution_count": 13,
   "id": "d3c7b5b2",
   "metadata": {},
   "outputs": [
    {
     "data": {
      "text/html": [
       "\n",
       "        <div style=\"margin: -8px -8px 0 -8px; padding: 0; overflow: hidden;\">\n",
       "            <iframe id=\"ac-iframe-44eebf18\" src=\"https://localhost:8888/(ink_red)~(line_0_0_width_height)~(ink_lime)~(line_0_height_width_0)~(write_%22Come_to_Fia's_Birthday%22_10_10_black)~(write_%22July_5th%22_10_30_black)~(write_%22invite_only_-_plus_ones_welcome%22_10_50_black)~(write_%22Echo_Park%22_10_70_black)~(write_%228pm-2am%22_10_90_black)?nolabel=true&nogap=true\" \n",
       "                    width=\"320\" \n",
       "                    height=\"240\" \n",
       "                    frameborder=\"0\"\n",
       "                    style=\"background: transparent; margin: 0; padding: 0; border: none; display: block;\">\n",
       "            </iframe>\n",
       "        </div>\n",
       "        "
      ],
      "text/plain": [
       "<IPython.core.display.HTML object>"
      ]
     },
     "metadata": {},
     "output_type": "display_data"
    }
   ],
   "source": [
    "%%ac 320 240\n",
    "(ink red)\n",
    "(line 0 0 width height)\n",
    "(ink lime)\n",
    "(line 0 height width 0)\n",
    "(write \"Come to Fia's Birthday\" 10 10 black)\n",
    "(write \"July 5th\" 10 30 black)\n",
    "(write \"invite only - plus ones welcome\" 10 50 black)\n",
    "(write \"Echo Park\" 10 70 black)\n",
    "(write \"8pm-2am\" 10 90 black)"
   ]
  },
  {
   "cell_type": "code",
   "execution_count": 12,
   "id": "7a720c97",
   "metadata": {},
   "outputs": [
    {
     "data": {
      "text/html": [
       "\n",
       "        <div style=\"margin: -8px -8px 0 -8px; padding: 0; overflow: hidden;\">\n",
       "            <iframe id=\"ac-iframe-c4946b7f\" src=\"https://localhost:8888/(wipe_white)~(write_%22Text_with_red_background%22_10_10_red)~(write_%22Text_with_blue_background%22_10_30_blue)~(write_%22Text_with_green_background%22_10_50_green)~(write_%22Text_with_yellow_background%22_10_70_yellow)?nolabel=true&nogap=true\" \n",
       "                    width=\"320\" \n",
       "                    height=\"100\" \n",
       "                    frameborder=\"0\"\n",
       "                    style=\"background: transparent; margin: 0; padding: 0; border: none; display: block;\">\n",
       "            </iframe>\n",
       "        </div>\n",
       "        "
      ],
      "text/plain": [
       "<IPython.core.display.HTML object>"
      ]
     },
     "metadata": {},
     "output_type": "display_data"
    }
   ],
   "source": [
    "%%ac 320 100\n",
    "\n",
    "(wipe white)\n",
    "(write \"Text with red background\" 10 10 red)\n",
    "(write \"Text with blue background\" 10 30 blue)\n",
    "(write \"Text with green background\" 10 50 green)\n",
    "(write \"Text with yellow background\" 10 70 yellow)"
   ]
  }
 ],
 "metadata": {
  "kernelspec": {
   "display_name": "Python 3",
   "language": "python",
   "name": "python3"
  },
  "language_info": {
   "codemirror_mode": {
    "name": "ipython",
    "version": 3
   },
   "file_extension": ".py",
   "mimetype": "text/x-python",
   "name": "python",
   "nbconvert_exporter": "python",
   "pygments_lexer": "ipython3",
   "version": "3.13.3"
  },
  "polyglot_notebook": {
   "kernelInfo": {
    "defaultKernelName": "csharp",
    "items": [
     {
      "aliases": [],
      "name": "csharp"
     }
    ]
   }
  }
 },
 "nbformat": 4,
 "nbformat_minor": 5
}
