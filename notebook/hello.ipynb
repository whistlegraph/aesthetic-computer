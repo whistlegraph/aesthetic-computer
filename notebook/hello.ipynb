{
 "cells": [
  {
   "cell_type": "code",
   "execution_count": null,
   "id": "d3c7b5b2",
   "metadata": {},
   "outputs": [],
   "source": [
    "%%ac 128 128\n",
    "(ink rainbow)\n",
    "(line)\n",
    "; (wipe)\n",
    "(melody \"cdefgabagfed\" 320)\n",
    "; todo: make it so the iframe in aesthetic.py dosn't have to be reloaded\n",
    ";       when the melody changes\n"
   ]
  },
  {
   "cell_type": "code",
   "execution_count": null,
   "id": "97707d56",
   "metadata": {},
   "outputs": [],
   "source": [
    "%%ac 128 128\n",
    "(fps 24)\n",
    "(0.25s (wipe (... red yellow blue)))\n",
    "(ink green)\n",
    "(line 0 height/2 width height/2)\n",
    "(ink red)\n",
    "(line width/2 0 width/2 height)\n",
    "(scroll frame frame)"
   ]
  },
  {
   "cell_type": "code",
   "execution_count": null,
   "id": "56ff3985",
   "metadata": {},
   "outputs": [],
   "source": [
    "%%ac 512 512\n",
    "; Mark the center point for reference\n",
    "(ink green)\n",
    "; (box (- width/2 2) (- height/2 2) 4 4)\n",
    "(stamp \"@jeffrey/2025.6.24.01.45.17.910\" width/2 height/2 0.5)"
   ]
  },
  {
   "cell_type": "code",
   "execution_count": null,
   "id": "e3bc7990",
   "metadata": {},
   "outputs": [],
   "source": [
    "%ac 192 clock (c.e..g..d...f.a..e.g..sb...sb..e..g..a..) x(c..e..g..) (f...a...+c...) (2ceg) ({triangle:0.15}7a....b....)\n"
   ]
  },
  {
   "cell_type": "code",
   "execution_count": 47,
   "id": "9825df68",
   "metadata": {},
   "outputs": [
    {
     "data": {
      "text/html": [
       "\n",
       "            <div style=\"margin: -8px -8px 0 -8px; padding: 0; overflow: hidden;\">\n",
       "                <iframe id=\"ac-iframe-9cb791c4\" src=\"https://localhost:8888/clock~(+ceg)~(e.b..c..d..e..)~({...}++ababababgfgfgfededefga)?nolabel=true&nogap=true\" \n",
       "                        width=\"100%\" \n",
       "                        height=\"192\" \n",
       "                        frameborder=\"0\"\n",
       "                        style=\"background: transparent; margin: 0; padding: 0; border: none; display: block;\">\n",
       "                </iframe>\n",
       "            </div>\n",
       "            "
      ],
      "text/plain": [
       "<IPython.core.display.HTML object>"
      ]
     },
     "metadata": {},
     "output_type": "display_data"
    }
   ],
   "source": [
    "%%ac 192\n",
    "clock (+ceg) (e.b..c..d..e..) ({...}++ababababgfgfgfededefga)"
   ]
  },
  {
   "cell_type": "code",
   "execution_count": 45,
   "id": "923c32b2",
   "metadata": {},
   "outputs": [
    {
     "name": "stderr",
     "output_type": "stream",
     "text": [
      "UsageError: Line magic function `%%ac` not found.\n"
     ]
    }
   ],
   "source": [
    "# Reload aesthetic module first\n",
    "import importlib\n",
    "import aesthetic\n",
    "importlib.reload(aesthetic)\n",
    "\n",
    "# Test simpler multiline melody to debug coloring\n",
    "%%ac 512 100\n",
    "clock (cdefg) (abcde)"
   ]
  }
 ],
 "metadata": {
  "kernelspec": {
   "display_name": "Python 3",
   "language": "python",
   "name": "python3"
  },
  "language_info": {
   "codemirror_mode": {
    "name": "ipython",
    "version": 3
   },
   "file_extension": ".py",
   "mimetype": "text/x-python",
   "name": "python",
   "nbconvert_exporter": "python",
   "pygments_lexer": "ipython3",
   "version": "3.13.3"
  },
  "polyglot_notebook": {
   "kernelInfo": {
    "defaultKernelName": "csharp",
    "items": [
     {
      "aliases": [],
      "name": "csharp"
     }
    ]
   }
  }
 },
 "nbformat": 4,
 "nbformat_minor": 5
}
