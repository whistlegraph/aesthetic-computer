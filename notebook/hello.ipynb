{
 "cells": [
  {
   "cell_type": "code",
   "execution_count": null,
   "id": "d3c7b5b2",
   "metadata": {},
   "outputs": [],
   "source": [
    "%%ac 128 128\n",
    "(ink rainbow)\n",
    "(line)\n",
    "; (wipe)\n",
    "(melody \"cdefgabagfed\" 320)\n",
    "; todo: make it so the iframe in aesthetic.py dosn't have to be reloaded\n",
    ";       when the melody changes\n"
   ]
  },
  {
   "cell_type": "code",
   "execution_count": 5,
   "id": "97707d56",
   "metadata": {},
   "outputs": [
    {
     "data": {
      "text/html": [
       "\n",
       "        <div style=\"margin: -8px -8px 0 -8px; padding: 0; overflow: hidden;\">\n",
       "            <iframe id=\"ac-iframe-6ea45e5a\" src=\"https://localhost:8888/(fps_24)~(0.25s_(wipe_(..._red_yellow_blue)))~(ink_green)~(line_0_height/2_width_height/2)~(ink_red)~(line_width/2_0_width/2_height)~(scroll_frame_frame)?nolabel=true&nogap=true\" \n",
       "                    width=\"128\" \n",
       "                    height=\"128\" \n",
       "                    frameborder=\"0\"\n",
       "                    style=\"background: transparent; margin: 0; padding: 0; border: none; display: block;\">\n",
       "            </iframe>\n",
       "        </div>\n",
       "        "
      ],
      "text/plain": [
       "<IPython.core.display.HTML object>"
      ]
     },
     "metadata": {},
     "output_type": "display_data"
    }
   ],
   "source": [
    "%%ac 128 128\n",
    "(fps 24)\n",
    "(0.25s (wipe (... red yellow blue)))\n",
    "(ink green)\n",
    "(line 0 height/2 width height/2)\n",
    "(ink red)\n",
    "(line width/2 0 width/2 height)\n",
    "(scroll frame frame)"
   ]
  },
  {
   "cell_type": "code",
   "execution_count": null,
   "id": "56ff3985",
   "metadata": {},
   "outputs": [],
   "source": [
    "%%ac 512 512\n",
    "; Mark the center point for reference\n",
    "(ink green)\n",
    "; (box (- width/2 2) (- height/2 2) 4 4)\n",
    "(stamp \"@jeffrey/2025.6.24.01.45.17.910\" width/2 height/2 0.5)"
   ]
  },
  {
   "cell_type": "code",
   "execution_count": null,
   "id": "e3bc7990",
   "metadata": {},
   "outputs": [],
   "source": [
    "%ac 192 clock (c.e..g..d...f.a..e.g..sb...sb..e..g..a..) x(c..e..g..) (f...a...+c...) (2ceg) ({triangle:0.15}7a....b....)\n"
   ]
  },
  {
   "cell_type": "code",
   "execution_count": null,
   "id": "9825df68",
   "metadata": {},
   "outputs": [],
   "source": [
    "%%ac 192\n",
    "clock (+ceg) (e.b..c..d..e..) ({...}++ababababgfgfgfededefga)"
   ]
  },
  {
   "cell_type": "code",
   "execution_count": 2,
   "id": "26a375dc",
   "metadata": {},
   "outputs": [
    {
     "data": {
      "text/html": [
       "\n",
       "        <div style=\"margin: -8px -8px 0 -8px; padding: 0; overflow: hidden;\">\n",
       "            <iframe id=\"ac-iframe-f6419f8a\" src=\"https://localhost:8888/;_Blue_background_with_red_X~(wipe_%22blue%22)~(ink_%22red%22)~(line_0_0_width_height)~(line_width_0_0_height)?nolabel=true&nogap=true\" \n",
       "                    width=\"256\" \n",
       "                    height=\"256\" \n",
       "                    frameborder=\"0\"\n",
       "                    style=\"background: transparent; margin: 0; padding: 0; border: none; display: block;\">\n",
       "            </iframe>\n",
       "        </div>\n",
       "        "
      ],
      "text/plain": [
       "<IPython.core.display.HTML object>"
      ]
     },
     "metadata": {},
     "output_type": "display_data"
    }
   ],
   "source": [
    "%%ac 256 256\n",
    "; Blue background with red X\n",
    "(wipe \"blue\")\n",
    "(ink \"red\")\n",
    "(line 0 0 width height)\n",
    "(line width 0 0 height)"
   ]
  },
  {
   "cell_type": "code",
   "execution_count": 6,
   "id": "36b2ed58",
   "metadata": {},
   "outputs": [
    {
     "data": {
      "text/html": [
       "\n",
       "        <div style=\"margin: -8px -8px 0 -8px; padding: 0; overflow: hidden;\">\n",
       "            <iframe id=\"ac-iframe-a7c989d2\" src=\"https://localhost:8888/;_Comprehensive_scroll_test~(wipe_black)~(ink_white)~(write_%22Original%22_10_10)~(ink_red)~(box_50_50_50_50)~;_Test_different_scroll_amounts~(0.1s_(scroll_1_0))____;_Small_scroll~(0.2s_(scroll_10_0))___;_Medium_scroll__~(0.3s_(scroll_0_10))___;_Vertical_scroll~(0.4s_(scroll_-5_-5))__;_Negative_scroll?nolabel=true&nogap=true\" \n",
       "                    width=\"256\" \n",
       "                    height=\"256\" \n",
       "                    frameborder=\"0\"\n",
       "                    style=\"background: transparent; margin: 0; padding: 0; border: none; display: block;\">\n",
       "            </iframe>\n",
       "        </div>\n",
       "        "
      ],
      "text/plain": [
       "<IPython.core.display.HTML object>"
      ]
     },
     "metadata": {},
     "output_type": "display_data"
    }
   ],
   "source": [
    "%%ac 256 256\n",
    "; Comprehensive scroll test\n",
    "(wipe black)\n",
    "(ink white)\n",
    "(write \"Original\" 10 10)\n",
    "(ink red)\n",
    "(box 50 50 50 50)\n",
    "; Test different scroll amounts\n",
    "(0.1s (scroll 1 0))    ; Small scroll\n",
    "(0.2s (scroll 10 0))   ; Medium scroll  \n",
    "(0.3s (scroll 0 10))   ; Vertical scroll\n",
    "(0.4s (scroll -5 -5))  ; Negative scroll"
   ]
  },
  {
   "cell_type": "code",
   "execution_count": 18,
   "id": "746709d9",
   "metadata": {},
   "outputs": [
    {
     "data": {
      "text/html": [
       "\n",
       "        <div style=\"margin: -8px -8px 0 -8px; padding: 0; overflow: hidden;\">\n",
       "            <iframe id=\"ac-iframe-497fb2b6\" src=\"https://localhost:8888/;_Test_potential_scroll_issues~;_(wipe_blue)~;_(0.5s_(wipe_blue))~(line)~(scroll_1)?nolabel=true&nogap=true\" \n",
       "                    width=\"256\" \n",
       "                    height=\"256\" \n",
       "                    frameborder=\"0\"\n",
       "                    style=\"background: transparent; margin: 0; padding: 0; border: none; display: block;\">\n",
       "            </iframe>\n",
       "        </div>\n",
       "        "
      ],
      "text/plain": [
       "<IPython.core.display.HTML object>"
      ]
     },
     "metadata": {},
     "output_type": "display_data"
    }
   ],
   "source": [
    "%%ac 256 256\n",
    "; Test potential scroll issues\n",
    "; (wipe blue)\n",
    "; (0.5s (wipe blue))\n",
    "(line)\n",
    "(scroll 1)\n"
   ]
  }
 ],
 "metadata": {
  "kernelspec": {
   "display_name": "Python 3",
   "language": "python",
   "name": "python3"
  },
  "language_info": {
   "codemirror_mode": {
    "name": "ipython",
    "version": 3
   },
   "file_extension": ".py",
   "mimetype": "text/x-python",
   "name": "python",
   "nbconvert_exporter": "python",
   "pygments_lexer": "ipython3",
   "version": "3.13.3"
  },
  "polyglot_notebook": {
   "kernelInfo": {
    "defaultKernelName": "csharp",
    "items": [
     {
      "aliases": [],
      "name": "csharp"
     }
    ]
   }
  }
 },
 "nbformat": 4,
 "nbformat_minor": 5
}
