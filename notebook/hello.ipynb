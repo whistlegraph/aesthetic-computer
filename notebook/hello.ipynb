{
 "cells": [
  {
   "cell_type": "markdown",
   "id": "8af28804",
   "metadata": {},
   "source": [
    "### `@jeffrey`'s notebook\n",
    "\n",
    "Below is a sample of how to use `clock`.\n"
   ]
  },
  {
   "cell_type": "code",
   "execution_count": 8,
   "id": "1734d026",
   "metadata": {},
   "outputs": [
    {
     "data": {
      "text/html": [
       "\n",
       "    <div style=\"display: flex; flex-wrap: wrap; align-items: flex-start; gap: 0; margin: 0; padding: 0;\">\n",
       "        <iframe src=\"https://localhost:8888/toss?nolabel&nogap\" width=\"300\" height=\"180\" frameborder=\"0\" style=\"margin: 0; padding: 0; border: none;\"></iframe><iframe src=\"https://localhost:8888/tone~1000?nolabel&nogap\" width=\"200\" height=\"180\" frameborder=\"0\" style=\"margin: 0; padding: 0; border: none;\"></iframe><iframe src=\"https://localhost:8888/toss?nolabel&nogap\" width=\"250\" height=\"180\" frameborder=\"0\" style=\"margin: 0; padding: 0; border: none;\"></iframe>\n",
       "    </div>\n",
       "    "
      ],
      "text/plain": [
       "<IPython.core.display.HTML object>"
      ]
     },
     "metadata": {},
     "output_type": "display_data"
    },
    {
     "data": {
      "text/html": [
       "\n",
       "    <div style=\"display: flex; flex-wrap: wrap; align-items: flex-start; gap: 0; margin: 0; padding: 0;\">\n",
       "        <iframe src=\"https://localhost:8888/clock:3 ace 1.5?nolabel&nogap\" width=\"200\" height=\"100\" frameborder=\"0\" style=\"margin: 0; padding: 0; border: none;\"></iframe><iframe src=\"https://localhost:8888/clock:6:quar bdf 0.5?nolabel&nogap\" width=\"200\" height=\"100\" frameborder=\"0\" style=\"margin: 0; padding: 0; border: none;\"></iframe>\n",
       "    </div>\n",
       "    "
      ],
      "text/plain": [
       "<IPython.core.display.HTML object>"
      ]
     },
     "metadata": {},
     "output_type": "display_data"
    }
   ],
   "source": [
    "# Display multiple clocks side by side\n",
    "aesthetic.show_side_by_side(\n",
    "    (\"toss\", 300, 180),\n",
    "    (\"tone~1000\", 200, 180),\n",
    "    (\"toss\", 250, 180)\n",
    ")\n",
    "\n",
    "# You can also use just piece names with default sizing\n",
    "aesthetic.show_side_by_side(\"clock:3 ace 1.5\", \"clock:6:quar bdf 0.5\")\n"
   ]
  }
 ],
 "metadata": {
  "kernelspec": {
   "display_name": "Python 3",
   "language": "python",
   "name": "python3"
  },
  "language_info": {
   "codemirror_mode": {
    "name": "ipython",
    "version": 3
   },
   "file_extension": ".py",
   "mimetype": "text/x-python",
   "name": "python",
   "nbconvert_exporter": "python",
   "pygments_lexer": "ipython3",
   "version": "3.13.3"
  },
  "polyglot_notebook": {
   "kernelInfo": {
    "defaultKernelName": "csharp",
    "items": [
     {
      "aliases": [],
      "name": "csharp"
     }
    ]
   }
  }
 },
 "nbformat": 4,
 "nbformat_minor": 5
}
