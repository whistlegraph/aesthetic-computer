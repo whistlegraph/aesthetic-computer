{
 "cells": [
  {
   "cell_type": "code",
   "execution_count": null,
   "id": "d3c7b5b2",
   "metadata": {},
   "outputs": [],
   "source": [
    "%%ac 128 128\n",
    "(ink rainbow)\n",
    "(line)\n",
    "; (wipe)\n",
    "(melody \"cdefgabagfed\" 320)\n",
    "; todo: make it so the iframe in aesthetic.py dosn't have to be reloaded\n",
    ";       when the melody changes\n"
   ]
  },
  {
   "cell_type": "code",
   "execution_count": null,
   "id": "97707d56",
   "metadata": {},
   "outputs": [],
   "source": [
    "%%ac 128 128\n",
    "(fps 24)\n",
    "(0.25s (wipe (... red yellow blue)))\n",
    "(ink green)\n",
    "(line 0 height/2 width height/2)\n",
    "(ink red)\n",
    "(line width/2 0 width/2 height)\n",
    "(scroll frame frame)"
   ]
  },
  {
   "cell_type": "code",
   "execution_count": 17,
   "id": "56ff3985",
   "metadata": {},
   "outputs": [
    {
     "data": {
      "text/html": [
       "\n",
       "        <div style=\"margin: -8px -8px 0 -8px; padding: 0; overflow: hidden;\">\n",
       "            <iframe id=\"ac-iframe-054678b5\" src=\"https://localhost:8888/;_Mark_the_center_point_for_reference~(ink_green)~;_(box_(-_width/2_2)_(-_height/2_2)_4_4)~(stamp_%22@jeffrey/2025.6.24.01.45.17.910%22_width/2_height/2_0.5)?nolabel=true&nogap=true\" \n",
       "                    width=\"512\" \n",
       "                    height=\"512\" \n",
       "                    frameborder=\"0\"\n",
       "                    style=\"background: transparent; margin: 0; padding: 0; border: none; display: block;\">\n",
       "            </iframe>\n",
       "        </div>\n",
       "        "
      ],
      "text/plain": [
       "<IPython.core.display.HTML object>"
      ]
     },
     "metadata": {},
     "output_type": "display_data"
    }
   ],
   "source": [
    "%%ac 512 512\n",
    "; Mark the center point for reference\n",
    "(ink green)\n",
    "; (box (- width/2 2) (- height/2 2) 4 4)\n",
    "(stamp \"@jeffrey/2025.6.24.01.45.17.910\" width/2 height/2 0.5)"
   ]
  },
  {
   "cell_type": "code",
   "execution_count": 5,
   "id": "e3bc7990",
   "metadata": {},
   "outputs": [
    {
     "data": {
      "text/html": [
       "\n",
       "        <div style=\"margin: -8px -8px 0 -8px; padding: 0; overflow: hidden;\">\n",
       "            <iframe id=\"ac-iframe-5e9a0b2c\" src=\"https://localhost:8888/clock_(c.e..g..d...f.a..e.g..sb...sb..e..g..a..)_x(c..e..g..)_(f...a...+c...)_(2ceg)_({triangle:0.15}7a....b....)?nolabel=true&nogap=true\" \n",
       "                    width=\"100%\" \n",
       "                    height=\"30\" \n",
       "                    frameborder=\"0\"\n",
       "                    style=\"background: transparent; margin: 0; padding: 0; border: none; display: block;\">\n",
       "            </iframe>\n",
       "        </div>\n",
       "        "
      ],
      "text/plain": [
       "<IPython.core.display.HTML object>"
      ]
     },
     "metadata": {},
     "output_type": "display_data"
    }
   ],
   "source": [
    "%ac clock (c.e..g..d...f.a..e.g..sb...sb..e..g..a..) x(c..e..g..) (f...a...+c...) (2ceg) ({triangle:0.15}7a....b....)\n"
   ]
  }
 ],
 "metadata": {
  "kernelspec": {
   "display_name": "Python 3",
   "language": "python",
   "name": "python3"
  },
  "language_info": {
   "codemirror_mode": {
    "name": "ipython",
    "version": 3
   },
   "file_extension": ".py",
   "mimetype": "text/x-python",
   "name": "python",
   "nbconvert_exporter": "python",
   "pygments_lexer": "ipython3",
   "version": "3.13.3"
  },
  "polyglot_notebook": {
   "kernelInfo": {
    "defaultKernelName": "csharp",
    "items": [
     {
      "aliases": [],
      "name": "csharp"
     }
    ]
   }
  }
 },
 "nbformat": 4,
 "nbformat_minor": 5
}
