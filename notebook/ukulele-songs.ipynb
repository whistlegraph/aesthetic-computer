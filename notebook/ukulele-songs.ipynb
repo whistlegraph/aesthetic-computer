{
 "cells": [
  {
   "cell_type": "markdown",
   "id": "66291123",
   "metadata": {},
   "source": [
    "# Ukulele Songs to Learn\n",
    "\n",
    "A collection of songs I want to learn on ukulele.\n"
   ]
  },
  {
   "cell_type": "markdown",
   "id": "043d10ac",
   "metadata": {},
   "source": [
    "## Taylor Swift - You Belong With Me\n",
    "\n",
    "**Tab Source:** https://tabs.ultimate-guitar.com/tab/taylor-swift/you-belong-with-me-ukulele-1807328\n",
    "\n",
    "- Key: G Major\n",
    "- Difficulty: Beginner/Intermediate\n",
    "- Common chords for ukulele versions\n"
   ]
  },
  {
   "cell_type": "markdown",
   "id": "2c10a39a",
   "metadata": {},
   "source": [
    "## They Might Be Giants - Why Does the Sun Shine?\n",
    "\n",
    "- Also known as \"The Sun Is a Mass of Incandescent Gas\"\n",
    "- Educational song about the sun\n",
    "- Great for practicing rhythm and chord changes\n"
   ]
  },
  {
   "cell_type": "markdown",
   "id": "acbec065",
   "metadata": {},
   "source": [
    "## Practice Notes\n",
    "\n",
    "- [ ] Learn chord progressions\n",
    "- [ ] Practice strumming patterns\n",
    "- [ ] Work on transitions between chords\n",
    "- [ ] Add more songs as I discover them\n"
   ]
  }
 ],
 "metadata": {
  "language_info": {
   "name": "python"
  }
 },
 "nbformat": 4,
 "nbformat_minor": 5
}
