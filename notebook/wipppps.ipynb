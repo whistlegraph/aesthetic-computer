{
 "cells": [
  {
   "cell_type": "code",
   "execution_count": 10,
   "id": "97707d56",
   "metadata": {},
   "outputs": [
    {
     "data": {
      "text/html": [
       "\n",
       "        <div style=\"margin: -8px -8px 0 -8px; padding: 0; overflow: hidden;\">\n",
       "            <iframe id=\"ac-iframe-e1a06f75\" src=\"https://localhost:8888/(fps_24)~(0.25s_(wipe_(..._red_yellow_blue)))~(ink_green)~(line_0_height/2_width_height/2)~(ink_red)~(line_width/2_0_width/2_height)~(scroll_frame_frame)?nolabel=true&nogap=true\" \n",
       "                    width=\"100%\" \n",
       "                    height=\"128\" \n",
       "                    frameborder=\"0\"\n",
       "                    style=\"background: transparent; margin: 0; padding: 0; border: none; display: block;\">\n",
       "            </iframe>\n",
       "        </div>\n",
       "        "
      ],
      "text/plain": [
       "<IPython.core.display.HTML object>"
      ]
     },
     "metadata": {},
     "output_type": "display_data"
    }
   ],
   "source": [
    "%%ac 128\n",
    "(fps 24)\n",
    "(0.25s (wipe (... red yellow blue)))\n",
    "(ink green)\n",
    "(line 0 height/2 width height/2)\n",
    "(ink red)\n",
    "(line width/2 0 width/2 height)\n",
    "(scroll frame frame)"
   ]
  },
  {
   "cell_type": "code",
   "execution_count": null,
   "id": "e85374ac",
   "metadata": {},
   "outputs": [],
   "source": []
  }
 ],
 "metadata": {
  "kernelspec": {
   "display_name": "Python 3",
   "language": "python",
   "name": "python3"
  },
  "language_info": {
   "codemirror_mode": {
    "name": "ipython",
    "version": 3
   },
   "file_extension": ".py",
   "mimetype": "text/x-python",
   "name": "python",
   "nbconvert_exporter": "python",
   "pygments_lexer": "ipython3",
   "version": "3.13.5"
  },
  "polyglot_notebook": {
   "kernelInfo": {
    "defaultKernelName": "csharp",
    "items": [
     {
      "aliases": [],
      "name": "csharp"
     }
    ]
   }
  }
 },
 "nbformat": 4,
 "nbformat_minor": 5
}
