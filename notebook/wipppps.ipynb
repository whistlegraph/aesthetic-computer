{
 "cells": [
  {
   "cell_type": "code",
   "execution_count": null,
   "id": "97707d56",
   "metadata": {},
   "outputs": [],
   "source": [
    "%%ac 512 512\n",
    "(fps 24)\n",
    "(0.25s (wipe (... red yellow blue)))\n",
    "(ink green)\n",
    "(line 0 height/2 width height/2)\n",
    "(ink red)\n",
    "(line width/2 0 width/2 height)\n",
    "(scroll frame frame)"
   ]
  },
  {
   "cell_type": "markdown",
   "id": "fc4fdacb",
   "metadata": {},
   "source": [
    "zzzZWAP - 143 BPM\n",
    "The bass only hits between C and C# BASS\n",
    "The kick has midi data. KICK\n",
    "The hits are midi data. HATS\n",
    "The snare is midi.\n",
    "cGenerally more muted color.\n"
   ]
  }
 ],
 "metadata": {
  "kernelspec": {
   "display_name": "Python 3",
   "language": "python",
   "name": "python3"
  },
  "language_info": {
   "codemirror_mode": {
    "name": "ipython",
    "version": 3
   },
   "file_extension": ".py",
   "mimetype": "text/x-python",
   "name": "python",
   "nbconvert_exporter": "python",
   "pygments_lexer": "ipython3",
   "version": "3.13.7"
  },
  "polyglot_notebook": {
   "kernelInfo": {
    "defaultKernelName": "csharp",
    "items": [
     {
      "aliases": [],
      "name": "csharp"
     }
    ]
   }
  }
 },
 "nbformat": 4,
 "nbformat_minor": 5
}
