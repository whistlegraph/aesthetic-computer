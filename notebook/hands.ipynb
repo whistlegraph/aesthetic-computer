{
 "cells": [
  {
   "cell_type": "markdown",
   "id": "9f8bbd82",
   "metadata": {},
   "source": [
    "```\n",
    "[Hand Shapes] ──► constrain instrument's continuous sound space\n",
    "     │\n",
    "     ▼\n",
    "[Chord Voicings / Fingerings] ──► repeatable \"filters\" of tone\n",
    "     │\n",
    "     ▼\n",
    "[Playing Styles] ──► recognizable patterns tied to technique\n",
    "     │\n",
    "     ▼\n",
    "[Genres] ──► social categories born from constrained hand-filters\n",
    "     │\n",
    "     ▼\n",
    "[Radio Bands] ──► spectrum narrowed into discrete channels\n",
    "     │\n",
    "     ▼\n",
    "[Radio Stations] ──► each \"channel\" takes on a genre identity\n",
    "```\n"
   ]
  }
 ],
 "metadata": {
  "language_info": {
   "name": "python"
  }
 },
 "nbformat": 4,
 "nbformat_minor": 5
}
