{
 "cells": [
  {
   "cell_type": "markdown",
   "id": "b0e959f0",
   "metadata": {},
   "source": [
    "# Aesthetic.Computer\n"
   ]
  },
  {
   "cell_type": "code",
   "execution_count": 3,
   "id": "e0f9038b",
   "metadata": {},
   "outputs": [
    {
     "data": {
      "text/html": [
       "\n",
       "            <div style=\"margin: -8px -8px 0 -8px; padding: 0; overflow: hidden;\">\n",
       "                <iframe id=\"ac-iframe-7546806a\" src=\"https://localhost:8888/@jeffrey?nolabel=true&nogap=true\" \n",
       "                        width=\"100%\" \n",
       "                        height=\"240\" \n",
       "                        frameborder=\"0\"\n",
       "                        style=\"background: transparent; margin: 0; padding: 0; border: none; display: block;\">\n",
       "                </iframe>\n",
       "            </div>\n",
       "            "
      ],
      "text/plain": [
       "<IPython.core.display.HTML object>"
      ]
     },
     "metadata": {},
     "output_type": "display_data"
    }
   ],
   "source": [
    "%ac 240 @jeffrey "
   ]
  }
 ],
 "metadata": {
  "kernelspec": {
   "display_name": "py311 (3.11.13)",
   "language": "python",
   "name": "python3"
  },
  "language_info": {
   "codemirror_mode": {
    "name": "ipython",
    "version": 3
   },
   "file_extension": ".py",
   "mimetype": "text/x-python",
   "name": "python",
   "nbconvert_exporter": "python",
   "pygments_lexer": "ipython3",
   "version": "3.11.13"
  }
 },
 "nbformat": 4,
 "nbformat_minor": 5
}
